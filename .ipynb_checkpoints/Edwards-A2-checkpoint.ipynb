{
 "cells": [
  {
   "cell_type": "markdown",
   "metadata": {},
   "source": [
    "# CMSC478 Machine Learning - Spring 2021\n",
    "\n",
    "## Instructor: Fereydoon Vafaei\n",
    "\n",
    "### <font color=\"blue\">Assignment-2: Regression - Stock Market Prediction</font>"
   ]
  },
  {
   "cell_type": "markdown",
   "metadata": {},
   "source": [
    "Sam Edwards VZ13212 "
   ]
  },
  {
   "cell_type": "markdown",
   "metadata": {},
   "source": [
    "## Overview and Learning Objectives"
   ]
  },
  {
   "cell_type": "markdown",
   "metadata": {},
   "source": [
    "In your second assignment, you are going to implement and train regression models. As mentioned in the lectures, regression models can predict a numeric value.\n",
    "\n",
    "The ML task in this assignment is regression, predicting the `Close` price of Apple stock index [**AAPL**](https://www.google.com/finance/quote/AAPL:NASDAQ). \n",
    "\n",
    "<b>Very Important Note:</b>\n",
    "**You must run ALL cells** and get the correct outputs for all cells and give complete answers to all questions. **Cells/codes with no output get zero!** If you don't run some cells in a part, the whole part gets zero even if you write some codes in them.\n",
    "\n",
    "All assignments are indvidual tasks and students are strictly prohibited from collaboration on assignments in Discord and other platforms. Students are responsible to debug the code and resolve any errors that may arise independently. Students should NOT share any answer, solution, or code with other students. Violations of these policies would be penalized according to UMBC academic integrity policy."
   ]
  },
  {
   "cell_type": "markdown",
   "metadata": {},
   "source": [
    "Pedagogically, this assignment will help you:\n",
    "- better understand regression. \n",
    "- practice with regression performance metrics.\n",
    "- practice with matplotlib and learn how to generate different plots.\n",
    "- gain experience with financial technical analysis and stock market prediction."
   ]
  },
  {
   "cell_type": "markdown",
   "metadata": {},
   "source": [
    "Wherever needed, you should replace `...` elipsis with your code.\n",
    "\n",
    "`...` may indicate one or more lines of missing codes. Some outputs are provided to you to use as reference and to verify that your output is correct."
   ]
  },
  {
   "cell_type": "markdown",
   "metadata": {},
   "source": [
    "The first thing to do is importing all necessary python and sklearn modules. **You definitely need to add to the following imports as you work on the assignment.** When you import a new module, add it here in the same cell. All imports should be in this cell."
   ]
  },
  {
   "cell_type": "code",
   "execution_count": 1,
   "metadata": {},
   "outputs": [],
   "source": [
    "# Import all necessary modules\n",
    "import numpy as np\n",
    "import pandas as pd\n",
    "import matplotlib.pyplot as plt\n",
    "%matplotlib inline\n",
    "\n",
    "\n",
    "import seaborn\n",
    "from sklearn.model_selection import train_test_split, RandomizedSearchCV\n",
    "from sklearn.metrics import mean_absolute_error, mean_squared_error\n",
    "from sklearn.linear_model import LinearRegression\n",
    "from sklearn.svm import SVR\n",
    "from xgboost import XGBRegressor\n",
    "from scipy import stats\n",
    "from sklearn.utils.fixes import loguniform\n",
    "...\n",
    "\n",
    "import warnings\n",
    "warnings.filterwarnings('ignore')"
   ]
  },
  {
   "cell_type": "markdown",
   "metadata": {},
   "source": [
    "## Part I - Preprocessing"
   ]
  },
  {
   "cell_type": "markdown",
   "metadata": {},
   "source": [
    "You should install [pandas-datareader](https://pandas-datareader.readthedocs.io/en/latest/). In Linux, it's as easy as running the following pip command in your notebook. In other OS, you may need to install it via Anaconda command prompt."
   ]
  },
  {
   "cell_type": "code",
   "execution_count": 2,
   "metadata": {},
   "outputs": [],
   "source": [
    "#!pip install pandas-datareader"
   ]
  },
  {
   "cell_type": "code",
   "execution_count": 3,
   "metadata": {},
   "outputs": [],
   "source": [
    "import pandas_datareader as pdr"
   ]
  },
  {
   "cell_type": "markdown",
   "metadata": {},
   "source": [
    "> Now you can read the data live from the web. One good source for stock market data is [Yahoo Finance](https://finance.yahoo.com/quote/AAPL?p=AAPL)."
   ]
  },
  {
   "cell_type": "code",
   "execution_count": 4,
   "metadata": {},
   "outputs": [
    {
     "data": {
      "text/html": [
       "<div>\n",
       "<style scoped>\n",
       "    .dataframe tbody tr th:only-of-type {\n",
       "        vertical-align: middle;\n",
       "    }\n",
       "\n",
       "    .dataframe tbody tr th {\n",
       "        vertical-align: top;\n",
       "    }\n",
       "\n",
       "    .dataframe thead th {\n",
       "        text-align: right;\n",
       "    }\n",
       "</style>\n",
       "<table border=\"1\" class=\"dataframe\">\n",
       "  <thead>\n",
       "    <tr style=\"text-align: right;\">\n",
       "      <th></th>\n",
       "      <th>High</th>\n",
       "      <th>Low</th>\n",
       "      <th>Open</th>\n",
       "      <th>Close</th>\n",
       "      <th>Volume</th>\n",
       "      <th>Adj Close</th>\n",
       "    </tr>\n",
       "    <tr>\n",
       "      <th>Date</th>\n",
       "      <th></th>\n",
       "      <th></th>\n",
       "      <th></th>\n",
       "      <th></th>\n",
       "      <th></th>\n",
       "      <th></th>\n",
       "    </tr>\n",
       "  </thead>\n",
       "  <tbody>\n",
       "    <tr>\n",
       "      <th>2021-02-12</th>\n",
       "      <td>135.529999</td>\n",
       "      <td>133.690002</td>\n",
       "      <td>134.350006</td>\n",
       "      <td>135.369995</td>\n",
       "      <td>60029300.0</td>\n",
       "      <td>135.369995</td>\n",
       "    </tr>\n",
       "    <tr>\n",
       "      <th>2021-02-16</th>\n",
       "      <td>136.009995</td>\n",
       "      <td>132.789993</td>\n",
       "      <td>135.490005</td>\n",
       "      <td>133.190002</td>\n",
       "      <td>80576300.0</td>\n",
       "      <td>133.190002</td>\n",
       "    </tr>\n",
       "    <tr>\n",
       "      <th>2021-02-17</th>\n",
       "      <td>132.220001</td>\n",
       "      <td>129.470001</td>\n",
       "      <td>131.250000</td>\n",
       "      <td>130.839996</td>\n",
       "      <td>97918500.0</td>\n",
       "      <td>130.839996</td>\n",
       "    </tr>\n",
       "    <tr>\n",
       "      <th>2021-02-18</th>\n",
       "      <td>130.000000</td>\n",
       "      <td>127.410004</td>\n",
       "      <td>129.199997</td>\n",
       "      <td>129.710007</td>\n",
       "      <td>96856700.0</td>\n",
       "      <td>129.710007</td>\n",
       "    </tr>\n",
       "    <tr>\n",
       "      <th>2021-02-19</th>\n",
       "      <td>130.710007</td>\n",
       "      <td>128.800003</td>\n",
       "      <td>130.240005</td>\n",
       "      <td>129.869995</td>\n",
       "      <td>87668800.0</td>\n",
       "      <td>129.869995</td>\n",
       "    </tr>\n",
       "    <tr>\n",
       "      <th>2021-02-22</th>\n",
       "      <td>129.720001</td>\n",
       "      <td>125.599998</td>\n",
       "      <td>128.009995</td>\n",
       "      <td>126.000000</td>\n",
       "      <td>103916400.0</td>\n",
       "      <td>126.000000</td>\n",
       "    </tr>\n",
       "    <tr>\n",
       "      <th>2021-02-23</th>\n",
       "      <td>126.709999</td>\n",
       "      <td>118.389999</td>\n",
       "      <td>123.760002</td>\n",
       "      <td>125.860001</td>\n",
       "      <td>158273000.0</td>\n",
       "      <td>125.860001</td>\n",
       "    </tr>\n",
       "    <tr>\n",
       "      <th>2021-02-24</th>\n",
       "      <td>125.559998</td>\n",
       "      <td>122.230003</td>\n",
       "      <td>124.940002</td>\n",
       "      <td>125.349998</td>\n",
       "      <td>111039900.0</td>\n",
       "      <td>125.349998</td>\n",
       "    </tr>\n",
       "    <tr>\n",
       "      <th>2021-02-25</th>\n",
       "      <td>126.459999</td>\n",
       "      <td>120.540001</td>\n",
       "      <td>124.680000</td>\n",
       "      <td>120.989998</td>\n",
       "      <td>148199500.0</td>\n",
       "      <td>120.989998</td>\n",
       "    </tr>\n",
       "    <tr>\n",
       "      <th>2021-02-26</th>\n",
       "      <td>124.849998</td>\n",
       "      <td>121.199997</td>\n",
       "      <td>122.589996</td>\n",
       "      <td>121.260002</td>\n",
       "      <td>164320000.0</td>\n",
       "      <td>121.260002</td>\n",
       "    </tr>\n",
       "  </tbody>\n",
       "</table>\n",
       "</div>"
      ],
      "text/plain": [
       "                  High         Low        Open       Close       Volume  \\\n",
       "Date                                                                      \n",
       "2021-02-12  135.529999  133.690002  134.350006  135.369995   60029300.0   \n",
       "2021-02-16  136.009995  132.789993  135.490005  133.190002   80576300.0   \n",
       "2021-02-17  132.220001  129.470001  131.250000  130.839996   97918500.0   \n",
       "2021-02-18  130.000000  127.410004  129.199997  129.710007   96856700.0   \n",
       "2021-02-19  130.710007  128.800003  130.240005  129.869995   87668800.0   \n",
       "2021-02-22  129.720001  125.599998  128.009995  126.000000  103916400.0   \n",
       "2021-02-23  126.709999  118.389999  123.760002  125.860001  158273000.0   \n",
       "2021-02-24  125.559998  122.230003  124.940002  125.349998  111039900.0   \n",
       "2021-02-25  126.459999  120.540001  124.680000  120.989998  148199500.0   \n",
       "2021-02-26  124.849998  121.199997  122.589996  121.260002  164320000.0   \n",
       "\n",
       "             Adj Close  \n",
       "Date                    \n",
       "2021-02-12  135.369995  \n",
       "2021-02-16  133.190002  \n",
       "2021-02-17  130.839996  \n",
       "2021-02-18  129.710007  \n",
       "2021-02-19  129.869995  \n",
       "2021-02-22  126.000000  \n",
       "2021-02-23  125.860001  \n",
       "2021-02-24  125.349998  \n",
       "2021-02-25  120.989998  \n",
       "2021-02-26  121.260002  "
      ]
     },
     "execution_count": 4,
     "metadata": {},
     "output_type": "execute_result"
    }
   ],
   "source": [
    "df = pdr.DataReader('AAPL', data_source='yahoo', start='2012-01-01', end='2021-02-26')\n",
    "df.tail(10)"
   ]
  },
  {
   "cell_type": "markdown",
   "metadata": {},
   "source": [
    "> Cool! You can switch to a different stock index and you can use different cutoff dates, but not for this assignment! To make all submissions consistent, don't change the dates, source and stock index."
   ]
  },
  {
   "cell_type": "markdown",
   "metadata": {},
   "source": [
    "> The data from Yahoo Finance is already very clean; however, you should always try to get some insights initially."
   ]
  },
  {
   "cell_type": "code",
   "execution_count": 5,
   "metadata": {
    "scrolled": false
   },
   "outputs": [
    {
     "data": {
      "text/html": [
       "<div>\n",
       "<style scoped>\n",
       "    .dataframe tbody tr th:only-of-type {\n",
       "        vertical-align: middle;\n",
       "    }\n",
       "\n",
       "    .dataframe tbody tr th {\n",
       "        vertical-align: top;\n",
       "    }\n",
       "\n",
       "    .dataframe thead th {\n",
       "        text-align: right;\n",
       "    }\n",
       "</style>\n",
       "<table border=\"1\" class=\"dataframe\">\n",
       "  <thead>\n",
       "    <tr style=\"text-align: right;\">\n",
       "      <th></th>\n",
       "      <th>High</th>\n",
       "      <th>Low</th>\n",
       "      <th>Open</th>\n",
       "      <th>Close</th>\n",
       "      <th>Volume</th>\n",
       "      <th>Adj Close</th>\n",
       "    </tr>\n",
       "  </thead>\n",
       "  <tbody>\n",
       "    <tr>\n",
       "      <th>count</th>\n",
       "      <td>2303.000000</td>\n",
       "      <td>2303.000000</td>\n",
       "      <td>2303.000000</td>\n",
       "      <td>2303.000000</td>\n",
       "      <td>2.303000e+03</td>\n",
       "      <td>2303.000000</td>\n",
       "    </tr>\n",
       "    <tr>\n",
       "      <th>mean</th>\n",
       "      <td>40.768029</td>\n",
       "      <td>39.915350</td>\n",
       "      <td>40.345086</td>\n",
       "      <td>40.357003</td>\n",
       "      <td>2.269361e+08</td>\n",
       "      <td>38.642441</td>\n",
       "    </tr>\n",
       "    <tr>\n",
       "      <th>std</th>\n",
       "      <td>27.399500</td>\n",
       "      <td>26.611593</td>\n",
       "      <td>27.029006</td>\n",
       "      <td>27.021137</td>\n",
       "      <td>1.790992e+08</td>\n",
       "      <td>27.631704</td>\n",
       "    </tr>\n",
       "    <tr>\n",
       "      <th>min</th>\n",
       "      <td>14.271429</td>\n",
       "      <td>13.753571</td>\n",
       "      <td>13.856071</td>\n",
       "      <td>13.947500</td>\n",
       "      <td>4.544800e+07</td>\n",
       "      <td>12.191197</td>\n",
       "    </tr>\n",
       "    <tr>\n",
       "      <th>25%</th>\n",
       "      <td>23.092501</td>\n",
       "      <td>22.705357</td>\n",
       "      <td>22.855893</td>\n",
       "      <td>22.805893</td>\n",
       "      <td>1.093298e+08</td>\n",
       "      <td>20.391053</td>\n",
       "    </tr>\n",
       "    <tr>\n",
       "      <th>50%</th>\n",
       "      <td>30.525000</td>\n",
       "      <td>30.045000</td>\n",
       "      <td>30.247499</td>\n",
       "      <td>30.295000</td>\n",
       "      <td>1.641152e+08</td>\n",
       "      <td>28.159733</td>\n",
       "    </tr>\n",
       "    <tr>\n",
       "      <th>75%</th>\n",
       "      <td>47.552500</td>\n",
       "      <td>46.763750</td>\n",
       "      <td>47.190001</td>\n",
       "      <td>47.182501</td>\n",
       "      <td>2.791866e+08</td>\n",
       "      <td>46.051743</td>\n",
       "    </tr>\n",
       "    <tr>\n",
       "      <th>max</th>\n",
       "      <td>145.089996</td>\n",
       "      <td>141.369995</td>\n",
       "      <td>143.600006</td>\n",
       "      <td>143.160004</td>\n",
       "      <td>1.506120e+09</td>\n",
       "      <td>142.946396</td>\n",
       "    </tr>\n",
       "  </tbody>\n",
       "</table>\n",
       "</div>"
      ],
      "text/plain": [
       "              High          Low         Open        Close        Volume  \\\n",
       "count  2303.000000  2303.000000  2303.000000  2303.000000  2.303000e+03   \n",
       "mean     40.768029    39.915350    40.345086    40.357003  2.269361e+08   \n",
       "std      27.399500    26.611593    27.029006    27.021137  1.790992e+08   \n",
       "min      14.271429    13.753571    13.856071    13.947500  4.544800e+07   \n",
       "25%      23.092501    22.705357    22.855893    22.805893  1.093298e+08   \n",
       "50%      30.525000    30.045000    30.247499    30.295000  1.641152e+08   \n",
       "75%      47.552500    46.763750    47.190001    47.182501  2.791866e+08   \n",
       "max     145.089996   141.369995   143.600006   143.160004  1.506120e+09   \n",
       "\n",
       "         Adj Close  \n",
       "count  2303.000000  \n",
       "mean     38.642441  \n",
       "std      27.631704  \n",
       "min      12.191197  \n",
       "25%      20.391053  \n",
       "50%      28.159733  \n",
       "75%      46.051743  \n",
       "max     142.946396  "
      ]
     },
     "execution_count": 5,
     "metadata": {},
     "output_type": "execute_result"
    }
   ],
   "source": [
    "\n",
    "df.reset_index(inplace=True)\n",
    "df.describe()"
   ]
  },
  {
   "cell_type": "markdown",
   "metadata": {},
   "source": [
    "> One of the techniques to get more insights about the data before training the regression model is correlation analysis. Correlation analysis tells you which columns are correlated. Pandas dataframe has [`.corr()`](https://pandas.pydata.org/pandas-docs/stable/reference/api/pandas.DataFrame.corr.html) method to caclulate the correlations."
   ]
  },
  {
   "cell_type": "code",
   "execution_count": 6,
   "metadata": {},
   "outputs": [
    {
     "data": {
      "text/html": [
       "<div>\n",
       "<style scoped>\n",
       "    .dataframe tbody tr th:only-of-type {\n",
       "        vertical-align: middle;\n",
       "    }\n",
       "\n",
       "    .dataframe tbody tr th {\n",
       "        vertical-align: top;\n",
       "    }\n",
       "\n",
       "    .dataframe thead th {\n",
       "        text-align: right;\n",
       "    }\n",
       "</style>\n",
       "<table border=\"1\" class=\"dataframe\">\n",
       "  <thead>\n",
       "    <tr style=\"text-align: right;\">\n",
       "      <th></th>\n",
       "      <th>High</th>\n",
       "      <th>Low</th>\n",
       "      <th>Open</th>\n",
       "      <th>Close</th>\n",
       "      <th>Volume</th>\n",
       "      <th>Adj Close</th>\n",
       "    </tr>\n",
       "  </thead>\n",
       "  <tbody>\n",
       "    <tr>\n",
       "      <th>High</th>\n",
       "      <td>1.000000</td>\n",
       "      <td>0.999685</td>\n",
       "      <td>0.999825</td>\n",
       "      <td>0.999780</td>\n",
       "      <td>-0.386792</td>\n",
       "      <td>0.999636</td>\n",
       "    </tr>\n",
       "    <tr>\n",
       "      <th>Low</th>\n",
       "      <td>0.999685</td>\n",
       "      <td>1.000000</td>\n",
       "      <td>0.999748</td>\n",
       "      <td>0.999787</td>\n",
       "      <td>-0.395065</td>\n",
       "      <td>0.999657</td>\n",
       "    </tr>\n",
       "    <tr>\n",
       "      <th>Open</th>\n",
       "      <td>0.999825</td>\n",
       "      <td>0.999748</td>\n",
       "      <td>1.000000</td>\n",
       "      <td>0.999593</td>\n",
       "      <td>-0.389839</td>\n",
       "      <td>0.999440</td>\n",
       "    </tr>\n",
       "    <tr>\n",
       "      <th>Close</th>\n",
       "      <td>0.999780</td>\n",
       "      <td>0.999787</td>\n",
       "      <td>0.999593</td>\n",
       "      <td>1.000000</td>\n",
       "      <td>-0.391277</td>\n",
       "      <td>0.999859</td>\n",
       "    </tr>\n",
       "    <tr>\n",
       "      <th>Volume</th>\n",
       "      <td>-0.386792</td>\n",
       "      <td>-0.395065</td>\n",
       "      <td>-0.389839</td>\n",
       "      <td>-0.391277</td>\n",
       "      <td>1.000000</td>\n",
       "      <td>-0.396361</td>\n",
       "    </tr>\n",
       "    <tr>\n",
       "      <th>Adj Close</th>\n",
       "      <td>0.999636</td>\n",
       "      <td>0.999657</td>\n",
       "      <td>0.999440</td>\n",
       "      <td>0.999859</td>\n",
       "      <td>-0.396361</td>\n",
       "      <td>1.000000</td>\n",
       "    </tr>\n",
       "  </tbody>\n",
       "</table>\n",
       "</div>"
      ],
      "text/plain": [
       "               High       Low      Open     Close    Volume  Adj Close\n",
       "High       1.000000  0.999685  0.999825  0.999780 -0.386792   0.999636\n",
       "Low        0.999685  1.000000  0.999748  0.999787 -0.395065   0.999657\n",
       "Open       0.999825  0.999748  1.000000  0.999593 -0.389839   0.999440\n",
       "Close      0.999780  0.999787  0.999593  1.000000 -0.391277   0.999859\n",
       "Volume    -0.386792 -0.395065 -0.389839 -0.391277  1.000000  -0.396361\n",
       "Adj Close  0.999636  0.999657  0.999440  0.999859 -0.396361   1.000000"
      ]
     },
     "execution_count": 6,
     "metadata": {},
     "output_type": "execute_result"
    }
   ],
   "source": [
    "corr = df.corr(method='pearson')\n",
    "corr"
   ]
  },
  {
   "cell_type": "markdown",
   "metadata": {},
   "source": [
    "> You can also visualize the correlations using [seaborn](https://seaborn.pydata.org/installing.html) heatmaps. You should install it if you don't have it, and then you should import it."
   ]
  },
  {
   "cell_type": "code",
   "execution_count": 7,
   "metadata": {
    "scrolled": true
   },
   "outputs": [
    {
     "data": {
      "text/plain": [
       "<AxesSubplot:>"
      ]
     },
     "execution_count": 7,
     "metadata": {},
     "output_type": "execute_result"
    },
    {
     "data": {
      "image/png": "[encoded data removed]",
      "text/plain": [
       "<Figure size 432x288 with 2 Axes>"
      ]
     },
     "metadata": {
      "needs_background": "light"
     },
     "output_type": "display_data"
    }
   ],
   "source": [
    "seaborn.heatmap(corr, xticklabels=corr.columns, yticklabels=corr.columns, cmap='RdBu_r', annot=True, linewidth=0.5)"
   ]
  },
  {
   "cell_type": "markdown",
   "metadata": {},
   "source": [
    "> Next, drop `Volume` and `Adj Close` as they are not useful for our regression analysis."
   ]
  },
  {
   "cell_type": "code",
   "execution_count": 8,
   "metadata": {},
   "outputs": [
    {
     "data": {
      "text/html": [
       "<div>\n",
       "<style scoped>\n",
       "    .dataframe tbody tr th:only-of-type {\n",
       "        vertical-align: middle;\n",
       "    }\n",
       "\n",
       "    .dataframe tbody tr th {\n",
       "        vertical-align: top;\n",
       "    }\n",
       "\n",
       "    .dataframe thead th {\n",
       "        text-align: right;\n",
       "    }\n",
       "</style>\n",
       "<table border=\"1\" class=\"dataframe\">\n",
       "  <thead>\n",
       "    <tr style=\"text-align: right;\">\n",
       "      <th></th>\n",
       "      <th>High</th>\n",
       "      <th>Low</th>\n",
       "      <th>Open</th>\n",
       "      <th>Close</th>\n",
       "    </tr>\n",
       "    <tr>\n",
       "      <th>Date</th>\n",
       "      <th></th>\n",
       "      <th></th>\n",
       "      <th></th>\n",
       "      <th></th>\n",
       "    </tr>\n",
       "  </thead>\n",
       "  <tbody>\n",
       "    <tr>\n",
       "      <th>2012-01-03</th>\n",
       "      <td>14.732143</td>\n",
       "      <td>14.607143</td>\n",
       "      <td>14.621429</td>\n",
       "      <td>14.686786</td>\n",
       "    </tr>\n",
       "    <tr>\n",
       "      <th>2012-01-04</th>\n",
       "      <td>14.810000</td>\n",
       "      <td>14.617143</td>\n",
       "      <td>14.642857</td>\n",
       "      <td>14.765714</td>\n",
       "    </tr>\n",
       "    <tr>\n",
       "      <th>2012-01-05</th>\n",
       "      <td>14.948214</td>\n",
       "      <td>14.738214</td>\n",
       "      <td>14.819643</td>\n",
       "      <td>14.929643</td>\n",
       "    </tr>\n",
       "    <tr>\n",
       "      <th>2012-01-06</th>\n",
       "      <td>15.098214</td>\n",
       "      <td>14.972143</td>\n",
       "      <td>14.991786</td>\n",
       "      <td>15.085714</td>\n",
       "    </tr>\n",
       "    <tr>\n",
       "      <th>2012-01-09</th>\n",
       "      <td>15.276786</td>\n",
       "      <td>15.048214</td>\n",
       "      <td>15.196429</td>\n",
       "      <td>15.061786</td>\n",
       "    </tr>\n",
       "    <tr>\n",
       "      <th>2012-01-10</th>\n",
       "      <td>15.214286</td>\n",
       "      <td>15.053571</td>\n",
       "      <td>15.211071</td>\n",
       "      <td>15.115714</td>\n",
       "    </tr>\n",
       "    <tr>\n",
       "      <th>2012-01-11</th>\n",
       "      <td>15.101786</td>\n",
       "      <td>14.975357</td>\n",
       "      <td>15.095714</td>\n",
       "      <td>15.091071</td>\n",
       "    </tr>\n",
       "    <tr>\n",
       "      <th>2012-01-12</th>\n",
       "      <td>15.103571</td>\n",
       "      <td>14.955357</td>\n",
       "      <td>15.081429</td>\n",
       "      <td>15.049643</td>\n",
       "    </tr>\n",
       "    <tr>\n",
       "      <th>2012-01-13</th>\n",
       "      <td>15.016071</td>\n",
       "      <td>14.952143</td>\n",
       "      <td>14.989286</td>\n",
       "      <td>14.993214</td>\n",
       "    </tr>\n",
       "    <tr>\n",
       "      <th>2012-01-17</th>\n",
       "      <td>15.213929</td>\n",
       "      <td>15.105714</td>\n",
       "      <td>15.150000</td>\n",
       "      <td>15.167857</td>\n",
       "    </tr>\n",
       "  </tbody>\n",
       "</table>\n",
       "</div>"
      ],
      "text/plain": [
       "                 High        Low       Open      Close\n",
       "Date                                                  \n",
       "2012-01-03  14.732143  14.607143  14.621429  14.686786\n",
       "2012-01-04  14.810000  14.617143  14.642857  14.765714\n",
       "2012-01-05  14.948214  14.738214  14.819643  14.929643\n",
       "2012-01-06  15.098214  14.972143  14.991786  15.085714\n",
       "2012-01-09  15.276786  15.048214  15.196429  15.061786\n",
       "2012-01-10  15.214286  15.053571  15.211071  15.115714\n",
       "2012-01-11  15.101786  14.975357  15.095714  15.091071\n",
       "2012-01-12  15.103571  14.955357  15.081429  15.049643\n",
       "2012-01-13  15.016071  14.952143  14.989286  14.993214\n",
       "2012-01-17  15.213929  15.105714  15.150000  15.167857"
      ]
     },
     "execution_count": 8,
     "metadata": {},
     "output_type": "execute_result"
    }
   ],
   "source": [
    "# Prepare the dataframe\n",
    "\n",
    "#### temp soltn\n",
    "df = pdr.DataReader('AAPL', data_source='yahoo', start='2012-01-01', end='2021-02-26')\n",
    "####\n",
    "df = df.drop(columns=['Volume', 'Adj Close'])\n",
    "df.head(10)"
   ]
  },
  {
   "cell_type": "markdown",
   "metadata": {},
   "source": [
    "> Next, you should generate the exact same plot as given below. EVERYTHING should look exactly the same as this plot. The specifications are as follows:\n",
    "> - `figsize` should be (16,8)\n",
    "> - `fontsize` for title should be 18 and for the axis labels should be 16.\n",
    "> - You should use a [`seaborn`](https://matplotlib.org/stable/gallery/style_sheets/style_sheets_reference.html) style with the grid displayed in the background and everything else should look the same. \n",
    "> - Your plot must have the same title and axis labels.\n",
    "> - You can see [matplotlib documentation](https://matplotlib.org/stable/api/_as_gen/matplotlib.pyplot.plot.html) to learn how to change specifications.\n",
    "> - Sometimes you need to run the code twice to see the style correctly."
   ]
  },
  {
   "cell_type": "code",
   "execution_count": 9,
   "metadata": {},
   "outputs": [
    {
     "data": {
      "text/plain": [
       "Timestamp('2012-01-03 00:00:00')"
      ]
     },
     "execution_count": 9,
     "metadata": {},
     "output_type": "execute_result"
    },
    {
     "data": {
      "image/png": "[encoded data removed]",
      "text/plain": [
       "<Figure size 1152x576 with 1 Axes>"
      ]
     },
     "metadata": {},
     "output_type": "display_data"
    }
   ],
   "source": [
    "# Generate the following plot. It should be EXACTLY the same!\n",
    "seaborn.set_theme()\n",
    "fig = plt.figure(figsize=(16,8))\n",
    "fig.suptitle('Apple Stock Closing Price History 2012-2021', fontsize=18)\n",
    "plt.plot(df['Close'], color='g')\n",
    "plt.ylabel('Close Price US($)', fontsize=16)\n",
    "plt.xlabel('Date', fontsize=16)\n",
    "\n",
    "\n",
    "df.index[0]"
   ]
  },
  {
   "cell_type": "markdown",
   "metadata": {},
   "source": [
    "> Next, you should decompose `Date` to `Year`, `Month`, and `Day`."
   ]
  },
  {
   "cell_type": "code",
   "execution_count": 10,
   "metadata": {},
   "outputs": [],
   "source": [
    "df['Year'] = df.index.year\n",
    "\n",
    "df['Month'] = df.index.month\n",
    "\n",
    "df['Day'] = df.index.day\n"
   ]
  },
  {
   "cell_type": "markdown",
   "metadata": {},
   "source": [
    "> Now choose the following columns from `df` in the same order as below:"
   ]
  },
  {
   "cell_type": "code",
   "execution_count": 11,
   "metadata": {},
   "outputs": [
    {
     "data": {
      "text/html": [
       "<div>\n",
       "<style scoped>\n",
       "    .dataframe tbody tr th:only-of-type {\n",
       "        vertical-align: middle;\n",
       "    }\n",
       "\n",
       "    .dataframe tbody tr th {\n",
       "        vertical-align: top;\n",
       "    }\n",
       "\n",
       "    .dataframe thead th {\n",
       "        text-align: right;\n",
       "    }\n",
       "</style>\n",
       "<table border=\"1\" class=\"dataframe\">\n",
       "  <thead>\n",
       "    <tr style=\"text-align: right;\">\n",
       "      <th></th>\n",
       "      <th>Day</th>\n",
       "      <th>Month</th>\n",
       "      <th>Year</th>\n",
       "      <th>High</th>\n",
       "      <th>Open</th>\n",
       "      <th>Low</th>\n",
       "      <th>Close</th>\n",
       "    </tr>\n",
       "    <tr>\n",
       "      <th>Date</th>\n",
       "      <th></th>\n",
       "      <th></th>\n",
       "      <th></th>\n",
       "      <th></th>\n",
       "      <th></th>\n",
       "      <th></th>\n",
       "      <th></th>\n",
       "    </tr>\n",
       "  </thead>\n",
       "  <tbody>\n",
       "    <tr>\n",
       "      <th>2021-02-12</th>\n",
       "      <td>12</td>\n",
       "      <td>2</td>\n",
       "      <td>2021</td>\n",
       "      <td>135.529999</td>\n",
       "      <td>134.350006</td>\n",
       "      <td>133.690002</td>\n",
       "      <td>135.369995</td>\n",
       "    </tr>\n",
       "    <tr>\n",
       "      <th>2021-02-16</th>\n",
       "      <td>16</td>\n",
       "      <td>2</td>\n",
       "      <td>2021</td>\n",
       "      <td>136.009995</td>\n",
       "      <td>135.490005</td>\n",
       "      <td>132.789993</td>\n",
       "      <td>133.190002</td>\n",
       "    </tr>\n",
       "    <tr>\n",
       "      <th>2021-02-17</th>\n",
       "      <td>17</td>\n",
       "      <td>2</td>\n",
       "      <td>2021</td>\n",
       "      <td>132.220001</td>\n",
       "      <td>131.250000</td>\n",
       "      <td>129.470001</td>\n",
       "      <td>130.839996</td>\n",
       "    </tr>\n",
       "    <tr>\n",
       "      <th>2021-02-18</th>\n",
       "      <td>18</td>\n",
       "      <td>2</td>\n",
       "      <td>2021</td>\n",
       "      <td>130.000000</td>\n",
       "      <td>129.199997</td>\n",
       "      <td>127.410004</td>\n",
       "      <td>129.710007</td>\n",
       "    </tr>\n",
       "    <tr>\n",
       "      <th>2021-02-19</th>\n",
       "      <td>19</td>\n",
       "      <td>2</td>\n",
       "      <td>2021</td>\n",
       "      <td>130.710007</td>\n",
       "      <td>130.240005</td>\n",
       "      <td>128.800003</td>\n",
       "      <td>129.869995</td>\n",
       "    </tr>\n",
       "    <tr>\n",
       "      <th>2021-02-22</th>\n",
       "      <td>22</td>\n",
       "      <td>2</td>\n",
       "      <td>2021</td>\n",
       "      <td>129.720001</td>\n",
       "      <td>128.009995</td>\n",
       "      <td>125.599998</td>\n",
       "      <td>126.000000</td>\n",
       "    </tr>\n",
       "    <tr>\n",
       "      <th>2021-02-23</th>\n",
       "      <td>23</td>\n",
       "      <td>2</td>\n",
       "      <td>2021</td>\n",
       "      <td>126.709999</td>\n",
       "      <td>123.760002</td>\n",
       "      <td>118.389999</td>\n",
       "      <td>125.860001</td>\n",
       "    </tr>\n",
       "    <tr>\n",
       "      <th>2021-02-24</th>\n",
       "      <td>24</td>\n",
       "      <td>2</td>\n",
       "      <td>2021</td>\n",
       "      <td>125.559998</td>\n",
       "      <td>124.940002</td>\n",
       "      <td>122.230003</td>\n",
       "      <td>125.349998</td>\n",
       "    </tr>\n",
       "    <tr>\n",
       "      <th>2021-02-25</th>\n",
       "      <td>25</td>\n",
       "      <td>2</td>\n",
       "      <td>2021</td>\n",
       "      <td>126.459999</td>\n",
       "      <td>124.680000</td>\n",
       "      <td>120.540001</td>\n",
       "      <td>120.989998</td>\n",
       "    </tr>\n",
       "    <tr>\n",
       "      <th>2021-02-26</th>\n",
       "      <td>26</td>\n",
       "      <td>2</td>\n",
       "      <td>2021</td>\n",
       "      <td>124.849998</td>\n",
       "      <td>122.589996</td>\n",
       "      <td>121.199997</td>\n",
       "      <td>121.260002</td>\n",
       "    </tr>\n",
       "  </tbody>\n",
       "</table>\n",
       "</div>"
      ],
      "text/plain": [
       "            Day  Month  Year        High        Open         Low       Close\n",
       "Date                                                                        \n",
       "2021-02-12   12      2  2021  135.529999  134.350006  133.690002  135.369995\n",
       "2021-02-16   16      2  2021  136.009995  135.490005  132.789993  133.190002\n",
       "2021-02-17   17      2  2021  132.220001  131.250000  129.470001  130.839996\n",
       "2021-02-18   18      2  2021  130.000000  129.199997  127.410004  129.710007\n",
       "2021-02-19   19      2  2021  130.710007  130.240005  128.800003  129.869995\n",
       "2021-02-22   22      2  2021  129.720001  128.009995  125.599998  126.000000\n",
       "2021-02-23   23      2  2021  126.709999  123.760002  118.389999  125.860001\n",
       "2021-02-24   24      2  2021  125.559998  124.940002  122.230003  125.349998\n",
       "2021-02-25   25      2  2021  126.459999  124.680000  120.540001  120.989998\n",
       "2021-02-26   26      2  2021  124.849998  122.589996  121.199997  121.260002"
      ]
     },
     "execution_count": 11,
     "metadata": {},
     "output_type": "execute_result"
    }
   ],
   "source": [
    "aapl = df[['Day', 'Month', 'Year', 'High', 'Open', 'Low', 'Close']]\n",
    "aapl.tail(10)"
   ]
  },
  {
   "cell_type": "markdown",
   "metadata": {},
   "source": [
    "> Next separate the independent variables (features) from the dependent variable (target column) which is `Close`. So your `X` should contain all columns in `aapl` except `Close` and `y` should include `Close` only."
   ]
  },
  {
   "cell_type": "code",
   "execution_count": 12,
   "metadata": {},
   "outputs": [],
   "source": [
    "# Separate features from the target\n",
    "X = df[['Day', 'Month', 'Year', 'High', 'Open', 'Low']]\n",
    "y = df['Close']"
   ]
  },
  {
   "cell_type": "code",
   "execution_count": 13,
   "metadata": {},
   "outputs": [
    {
     "name": "stdout",
     "output_type": "stream",
     "text": [
      "(2303, 6)\n",
      "(2303,)\n"
     ]
    }
   ],
   "source": [
    "print(X.shape)\n",
    "print(y.shape)"
   ]
  },
  {
   "cell_type": "markdown",
   "metadata": {},
   "source": [
    "> **Important Note**: Double-check and make sure that `X` and `y` do NOT have anything in common; otherwise your whole work will be wrong!"
   ]
  },
  {
   "cell_type": "code",
   "execution_count": 14,
   "metadata": {},
   "outputs": [
    {
     "data": {
      "text/html": [
       "<div>\n",
       "<style scoped>\n",
       "    .dataframe tbody tr th:only-of-type {\n",
       "        vertical-align: middle;\n",
       "    }\n",
       "\n",
       "    .dataframe tbody tr th {\n",
       "        vertical-align: top;\n",
       "    }\n",
       "\n",
       "    .dataframe thead th {\n",
       "        text-align: right;\n",
       "    }\n",
       "</style>\n",
       "<table border=\"1\" class=\"dataframe\">\n",
       "  <thead>\n",
       "    <tr style=\"text-align: right;\">\n",
       "      <th></th>\n",
       "      <th>Day</th>\n",
       "      <th>Month</th>\n",
       "      <th>Year</th>\n",
       "      <th>High</th>\n",
       "      <th>Open</th>\n",
       "      <th>Low</th>\n",
       "    </tr>\n",
       "    <tr>\n",
       "      <th>Date</th>\n",
       "      <th></th>\n",
       "      <th></th>\n",
       "      <th></th>\n",
       "      <th></th>\n",
       "      <th></th>\n",
       "      <th></th>\n",
       "    </tr>\n",
       "  </thead>\n",
       "  <tbody>\n",
       "    <tr>\n",
       "      <th>2012-01-03</th>\n",
       "      <td>3</td>\n",
       "      <td>1</td>\n",
       "      <td>2012</td>\n",
       "      <td>14.732143</td>\n",
       "      <td>14.621429</td>\n",
       "      <td>14.607143</td>\n",
       "    </tr>\n",
       "    <tr>\n",
       "      <th>2012-01-04</th>\n",
       "      <td>4</td>\n",
       "      <td>1</td>\n",
       "      <td>2012</td>\n",
       "      <td>14.810000</td>\n",
       "      <td>14.642857</td>\n",
       "      <td>14.617143</td>\n",
       "    </tr>\n",
       "    <tr>\n",
       "      <th>2012-01-05</th>\n",
       "      <td>5</td>\n",
       "      <td>1</td>\n",
       "      <td>2012</td>\n",
       "      <td>14.948214</td>\n",
       "      <td>14.819643</td>\n",
       "      <td>14.738214</td>\n",
       "    </tr>\n",
       "    <tr>\n",
       "      <th>2012-01-06</th>\n",
       "      <td>6</td>\n",
       "      <td>1</td>\n",
       "      <td>2012</td>\n",
       "      <td>15.098214</td>\n",
       "      <td>14.991786</td>\n",
       "      <td>14.972143</td>\n",
       "    </tr>\n",
       "    <tr>\n",
       "      <th>2012-01-09</th>\n",
       "      <td>9</td>\n",
       "      <td>1</td>\n",
       "      <td>2012</td>\n",
       "      <td>15.276786</td>\n",
       "      <td>15.196429</td>\n",
       "      <td>15.048214</td>\n",
       "    </tr>\n",
       "    <tr>\n",
       "      <th>...</th>\n",
       "      <td>...</td>\n",
       "      <td>...</td>\n",
       "      <td>...</td>\n",
       "      <td>...</td>\n",
       "      <td>...</td>\n",
       "      <td>...</td>\n",
       "    </tr>\n",
       "    <tr>\n",
       "      <th>2021-02-22</th>\n",
       "      <td>22</td>\n",
       "      <td>2</td>\n",
       "      <td>2021</td>\n",
       "      <td>129.720001</td>\n",
       "      <td>128.009995</td>\n",
       "      <td>125.599998</td>\n",
       "    </tr>\n",
       "    <tr>\n",
       "      <th>2021-02-23</th>\n",
       "      <td>23</td>\n",
       "      <td>2</td>\n",
       "      <td>2021</td>\n",
       "      <td>126.709999</td>\n",
       "      <td>123.760002</td>\n",
       "      <td>118.389999</td>\n",
       "    </tr>\n",
       "    <tr>\n",
       "      <th>2021-02-24</th>\n",
       "      <td>24</td>\n",
       "      <td>2</td>\n",
       "      <td>2021</td>\n",
       "      <td>125.559998</td>\n",
       "      <td>124.940002</td>\n",
       "      <td>122.230003</td>\n",
       "    </tr>\n",
       "    <tr>\n",
       "      <th>2021-02-25</th>\n",
       "      <td>25</td>\n",
       "      <td>2</td>\n",
       "      <td>2021</td>\n",
       "      <td>126.459999</td>\n",
       "      <td>124.680000</td>\n",
       "      <td>120.540001</td>\n",
       "    </tr>\n",
       "    <tr>\n",
       "      <th>2021-02-26</th>\n",
       "      <td>26</td>\n",
       "      <td>2</td>\n",
       "      <td>2021</td>\n",
       "      <td>124.849998</td>\n",
       "      <td>122.589996</td>\n",
       "      <td>121.199997</td>\n",
       "    </tr>\n",
       "  </tbody>\n",
       "</table>\n",
       "<p>2303 rows × 6 columns</p>\n",
       "</div>"
      ],
      "text/plain": [
       "            Day  Month  Year        High        Open         Low\n",
       "Date                                                            \n",
       "2012-01-03    3      1  2012   14.732143   14.621429   14.607143\n",
       "2012-01-04    4      1  2012   14.810000   14.642857   14.617143\n",
       "2012-01-05    5      1  2012   14.948214   14.819643   14.738214\n",
       "2012-01-06    6      1  2012   15.098214   14.991786   14.972143\n",
       "2012-01-09    9      1  2012   15.276786   15.196429   15.048214\n",
       "...         ...    ...   ...         ...         ...         ...\n",
       "2021-02-22   22      2  2021  129.720001  128.009995  125.599998\n",
       "2021-02-23   23      2  2021  126.709999  123.760002  118.389999\n",
       "2021-02-24   24      2  2021  125.559998  124.940002  122.230003\n",
       "2021-02-25   25      2  2021  126.459999  124.680000  120.540001\n",
       "2021-02-26   26      2  2021  124.849998  122.589996  121.199997\n",
       "\n",
       "[2303 rows x 6 columns]"
      ]
     },
     "execution_count": 14,
     "metadata": {},
     "output_type": "execute_result"
    }
   ],
   "source": [
    "X"
   ]
  },
  {
   "cell_type": "code",
   "execution_count": 15,
   "metadata": {},
   "outputs": [
    {
     "data": {
      "text/plain": [
       "Date\n",
       "2012-01-03     14.686786\n",
       "2012-01-04     14.765714\n",
       "2012-01-05     14.929643\n",
       "2012-01-06     15.085714\n",
       "2012-01-09     15.061786\n",
       "                 ...    \n",
       "2021-02-22    126.000000\n",
       "2021-02-23    125.860001\n",
       "2021-02-24    125.349998\n",
       "2021-02-25    120.989998\n",
       "2021-02-26    121.260002\n",
       "Name: Close, Length: 2303, dtype: float64"
      ]
     },
     "execution_count": 15,
     "metadata": {},
     "output_type": "execute_result"
    }
   ],
   "source": [
    "y"
   ]
  },
  {
   "cell_type": "markdown",
   "metadata": {},
   "source": [
    "As mentioned in the lectures, the data for supervised learning (both classification and regression) is split into training set and test set. We usually do this by importing [`train_test_split()`](https://scikit-learn.org/stable/modules/generated/sklearn.model_selection.train_test_split.html) module from scikit-learn.\n",
    "Split the data by a `test_size` ratio of 0.25"
   ]
  },
  {
   "cell_type": "code",
   "execution_count": 16,
   "metadata": {},
   "outputs": [],
   "source": [
    "# Partition the data into train and test\n",
    "X_train, X_test, y_train, y_test = train_test_split(X, y, test_size=0.25)"
   ]
  },
  {
   "cell_type": "code",
   "execution_count": 17,
   "metadata": {},
   "outputs": [
    {
     "name": "stdout",
     "output_type": "stream",
     "text": [
      "(1727, 6)\n",
      "(576, 6)\n",
      "(1727,)\n",
      "(576,)\n"
     ]
    }
   ],
   "source": [
    "print(X_train.shape)\n",
    "print(X_test.shape)\n",
    "print(y_train.shape)\n",
    "print(y_test.shape)"
   ]
  },
  {
   "cell_type": "markdown",
   "metadata": {},
   "source": [
    "## Part-II Linear Regression with Closed Form Solution (Least Squares)"
   ]
  },
  {
   "cell_type": "markdown",
   "metadata": {},
   "source": [
    "Now that the data is prepared, you can train and test regression models.\n",
    "\n",
    "First, you are going to use the Least Squares method using the normal equation. You can check the slides and see examples of the closed form solution (Least Squares) there. You don't have to add a column containing ones. It is fine to add ones similar to the slides/textbook example but you don't have to, you can directly get `theta_best` from `X_train` and `y_train` using normal equation.\n",
    "\n",
    "As discussed in the lectures, the normal equation is as follows:\n",
    "\n",
    "$\n",
    "\\hat{\\boldsymbol{\\theta}} = (\\mathbf{X}^T \\mathbf{X})^{-1} \\mathbf{X}^T \\mathbf{y}\n",
    "$\n",
    "\n",
    "In this normal equation:\n",
    "\n",
    "- $\\hat{\\boldsymbol{\\theta}}$ is the value of $\\theta$ that minimizes the cost function, i.e. `theta_best`.\n",
    "\n",
    "- y is the vector of target values containing $y^{(1)}$ to $y^{(m)}$, i.e. `y_train`.\n",
    "\n",
    "- $\\mathbf{X}$ is the vector of features, i.e. `X_train`."
   ]
  },
  {
   "cell_type": "code",
   "execution_count": 18,
   "metadata": {},
   "outputs": [],
   "source": [
    "# Compute theta_best using normal equation in ONE LINE\n",
    "# Hint: You should use an np method and pandas dataframe dot product\n",
    "theta_best = np.linalg.inv(X_train.T.dot(X_train)).dot(X_train.T).dot(y_train)"
   ]
  },
  {
   "cell_type": "code",
   "execution_count": 19,
   "metadata": {},
   "outputs": [
    {
     "data": {
      "text/plain": [
       "(6,)"
      ]
     },
     "execution_count": 19,
     "metadata": {},
     "output_type": "execute_result"
    }
   ],
   "source": [
    "theta_best.shape"
   ]
  },
  {
   "cell_type": "code",
   "execution_count": 20,
   "metadata": {},
   "outputs": [],
   "source": [
    "# Make predictions on X_test using theta_best\n",
    "y_pred_ls = X_train.dot(theta_best)"
   ]
  },
  {
   "cell_type": "markdown",
   "metadata": {},
   "source": [
    "#### Regression Model Evaluation: MSE, RMSE, MAE"
   ]
  },
  {
   "cell_type": "markdown",
   "metadata": {},
   "source": [
    "Next, you should evaluate the regression model.\n",
    "\n",
    "Remember from the lectures that three of the regression performance measures are MSE, RMSE, and MAE:\n",
    "\n",
    "$\n",
    "\\text{MSE}(\\mathbf{X}, h_{\\boldsymbol{\\theta}}) = \\dfrac{1}{m} \\sum\\limits_{i=1}^{m}{(\\boldsymbol{\\theta}^T \\mathbf{x}^{(i)} - y^{(i)})^2}\n",
    "$\n",
    "\n",
    "\n",
    "$\n",
    "\\text{RMSE}(\\mathbf{X}, h_{\\boldsymbol{\\theta}}) = \\sqrt{\\dfrac{1}{m} \\sum\\limits_{i=1}^{m}{(\\boldsymbol{\\theta}^T \\mathbf{x}^{(i)} - y^{(i)})^2}}\n",
    "$\n",
    "\n",
    "$\n",
    "\\text{MAE}(\\mathbf{X}, h_{\\boldsymbol{\\theta}}) = \\frac{1}{m}\\sum\\limits_{i=1}^{m}\\left| \\boldsymbol{\\theta}^T \\mathbf{x}^{(i)} - y^{(i)} \\right|\n",
    "$\n",
    "\n",
    "where $\\boldsymbol{\\theta}^T \\mathbf{x}^{(i)}$ is your prediction versus $y^{(i)}$ target values, and $m$ is number of instances.\n",
    "\n",
    "You should implement `mse`, `rmse`, and `mae` functions using ONE LINE of code for each `return` and by using `np` methods only. You should NOT use sklearn methods for implementing them, otherwise your code gets zero points for this part."
   ]
  },
  {
   "cell_type": "code",
   "execution_count": 21,
   "metadata": {},
   "outputs": [],
   "source": [
    "def mse(y_true, y_pred):\n",
    "    return np.mean((y_pred-y_true)**2)"
   ]
  },
  {
   "cell_type": "code",
   "execution_count": 22,
   "metadata": {},
   "outputs": [],
   "source": [
    "def rmse(y_true, y_pred):\n",
    "    return np.sqrt(np.mean((y_pred-y_true)**2))"
   ]
  },
  {
   "cell_type": "code",
   "execution_count": 23,
   "metadata": {},
   "outputs": [],
   "source": [
    "def mae(y_true, y_pred):\n",
    "    return np.mean(np.absolute(y_pred-y_true))"
   ]
  },
  {
   "cell_type": "markdown",
   "metadata": {},
   "source": [
    "> Now compute the `mse`, `rmse`, and `mae` for the Least Squares regression model. They all should be small numbers less than 0.5. "
   ]
  },
  {
   "cell_type": "code",
   "execution_count": 24,
   "metadata": {},
   "outputs": [
    {
     "name": "stdout",
     "output_type": "stream",
     "text": [
      "LS MSE 0.16230484416080979\n",
      "LS RMSE 0.4028707536677362\n",
      "LS MAE 0.20427608016576082\n"
     ]
    }
   ],
   "source": [
    "mse_ls = mse(y_train, y_pred_ls)\n",
    "rmse_ls = rmse(y_train, y_pred_ls)\n",
    "mae_ls = mae(y_train, y_pred_ls)\n",
    "print('LS MSE', mse_ls)\n",
    "print('LS RMSE', rmse_ls)\n",
    "print('LS MAE', mae_ls)"
   ]
  },
  {
   "cell_type": "code",
   "execution_count": 25,
   "metadata": {},
   "outputs": [
    {
     "name": "stdout",
     "output_type": "stream",
     "text": [
      "0.2042760801657608205061933\n"
     ]
    }
   ],
   "source": [
    "print(\"{:.25f}\".format(mae_ls))"
   ]
  },
  {
   "cell_type": "markdown",
   "metadata": {},
   "source": [
    "> Next, you should check your implemented methods `mae` and `mse` by comparing your scores with the scores computed by [scikit-learn methods](https://scikit-learn.org/stable/modules/model_evaluation.html#mean-absolute-error). They should match precisely."
   ]
  },
  {
   "cell_type": "code",
   "execution_count": 26,
   "metadata": {},
   "outputs": [],
   "source": [
    "# Compute mae and mse of LS model by sklearn methods\n",
    "sklearn_mae_ls = mean_absolute_error(y_train, y_pred_ls)\n",
    "sklearn_mse_ls = mean_squared_error(y_train, y_pred_ls)"
   ]
  },
  {
   "cell_type": "code",
   "execution_count": 27,
   "metadata": {},
   "outputs": [
    {
     "name": "stdout",
     "output_type": "stream",
     "text": [
      "MAE is correct!\n",
      "MSE is correct!\n"
     ]
    }
   ],
   "source": [
    "# Scores computed by your functions should be equal to the scores computed by sklearn methods\n",
    "if sklearn_mae_ls == mae_ls:\n",
    "    print('MAE is correct!')\n",
    "else:\n",
    "    print('MAE is wrong!')\n",
    "    \n",
    "if sklearn_mse_ls == mse_ls:\n",
    "    print('MSE is correct!')\n",
    "else:\n",
    "    print('MSE is wrong!')  "
   ]
  },
  {
   "cell_type": "markdown",
   "metadata": {},
   "source": [
    "> Next, you should show that your model works pretty well by generating the following plot. Your generated plot should look EXACTLY the same as the provided one. Very minor variance in points are acceptable but the trends should match and be very similar. You can use the same specifications of the previous plot (size, font size, style). The legend should display two different colors as this plot, blue for `Actual` and red for `Prediction`. You can see [matplotlib documentation](https://matplotlib.org/stable/api/_as_gen/matplotlib.pyplot.plot.html) to learn how to change specifications.\n",
    "\n",
    "> The plot shows that `Actual` target values and `Prediction` values match very highly."
   ]
  },
  {
   "cell_type": "code",
   "execution_count": 28,
   "metadata": {},
   "outputs": [
    {
     "data": {
      "text/plain": [
       "Text(0.5, 0, 'Date')"
      ]
     },
     "execution_count": 28,
     "metadata": {},
     "output_type": "execute_result"
    },
    {
     "data": {
      "image/png": "[encoded data removed]",
      "text/plain": [
       "<Figure size 1152x576 with 1 Axes>"
      ]
     },
     "metadata": {},
     "output_type": "display_data"
    }
   ],
   "source": [
    "# Generate the following plot. It should look EXACTLY the same!\n",
    "fig = plt.figure(figsize=(16,8))\n",
    "#fig.suptitle('Apple Stock Closing Price History 2012-2021', fontsize=18)\n",
    "plt.plot(y_train,'o', color='b', label='Actual')\n",
    "plt.plot(y_pred_ls,'.', color='r', label='Prediction')\n",
    "plt.ylabel('Close Price US($)', fontsize=16)\n",
    "\n",
    "ax = fig.add_subplot()\n",
    "plt.legend(loc='upper left', frameon=False)\n",
    "\n",
    "#####need xlabel to be index\n",
    "plt.xlabel('Date', fontsize=16)\n"
   ]
  },
  {
   "cell_type": "markdown",
   "metadata": {},
   "source": [
    "### Part-II Questions"
   ]
  },
  {
   "cell_type": "markdown",
   "metadata": {},
   "source": [
    "- Q1 [5 points] Why `theta_best.shape` shape is (6,)? You should explain completely.\n",
    "\n",
    "- Answer of Q1: This is because there are 6 columns used in the X_train/X_test sets: Year, Month, Day, Open, Low, High. Each of these has an entry in theta_best.\n",
    "\n",
    "- Q2 [5 point] Do some research and find out when/why mae may be favored against mse and vice-versa. In other words, in what situations mae is a better indication of model performance and in what situations mse? Explain your findings completely.\n",
    "\n",
    "- Answer of Q2: MAE is better for datasets that do not have many outliers, because they fail to aptly punish the resulting large prediction errors caused by outliers. Meanwhile MSE can better handle datasets with more variation since this method represents large errors caused by outliers more effectively. Another downside to MSE is that the structure of it's equation doesnt allow for easy conversions between units. (Squaring the units changes the scale)"
   ]
  },
  {
   "cell_type": "markdown",
   "metadata": {},
   "source": [
    "## Part-III  Scikit-learn Linear Regression, SVM and XGBoost"
   ]
  },
  {
   "cell_type": "markdown",
   "metadata": {},
   "source": [
    "In Part-III, you are going to use [Linear Regression](https://scikit-learn.org/stable/modules/generated/sklearn.linear_model.LinearRegression.html), [SVM](https://scikit-learn.org/stable/modules/generated/sklearn.svm.SVR.html) and [XGBoost](https://xgboost.readthedocs.io/en/latest/python/python_api.html#module-xgboost.sklearn) to build regression models."
   ]
  },
  {
   "cell_type": "code",
   "execution_count": 29,
   "metadata": {},
   "outputs": [
    {
     "data": {
      "text/plain": [
       "LinearRegression()"
      ]
     },
     "execution_count": 29,
     "metadata": {},
     "output_type": "execute_result"
    }
   ],
   "source": [
    "# Build a LinearRegression model and train it on (X_train, y_train)\n",
    "lin_reg = LinearRegression()\n",
    "lin_reg.fit(X_train, y_train)\n"
   ]
  },
  {
   "cell_type": "code",
   "execution_count": 30,
   "metadata": {},
   "outputs": [],
   "source": [
    "# Test lin_reg on X_test\n",
    "y_pred_lin_reg = lin_reg.predict(X_test)"
   ]
  },
  {
   "cell_type": "code",
   "execution_count": 31,
   "metadata": {},
   "outputs": [
    {
     "name": "stdout",
     "output_type": "stream",
     "text": [
      "Linear Regression RMSE 0.3389489621427577\n"
     ]
    }
   ],
   "source": [
    "# Compute rmse for lin_reg using your own rmse function\n",
    "rmse_lin_reg = rmse(y_test, y_pred_lin_reg)\n",
    "print('Linear Regression RMSE', rmse_lin_reg)"
   ]
  },
  {
   "cell_type": "markdown",
   "metadata": {},
   "source": [
    "> Next, you should generate a plot that looks exactly like the following plot. Very minor variance in the blue points is acceptable but the line should be pretty much the same.\n",
    "\n",
    "> The comment names it `Plot Q3` because question Q3 asks about it."
   ]
  },
  {
   "cell_type": "code",
   "execution_count": 32,
   "metadata": {},
   "outputs": [
    {
     "data": {
      "text/plain": [
       "Text(0.5, 0, 'Prediction')"
      ]
     },
     "execution_count": 32,
     "metadata": {},
     "output_type": "execute_result"
    },
    {
     "data": {
      "image/png": "[encoded data removed]",
      "text/plain": [
       "<Figure size 1152x576 with 1 Axes>"
      ]
     },
     "metadata": {},
     "output_type": "display_data"
    }
   ],
   "source": [
    "# Plot Q3\n",
    "fig = plt.figure(figsize=(16,8))\n",
    "#fig.suptitle('Apple Stock Closing Price History 2012-2021', fontsize=18)\n",
    "plt.plot(y_pred_lin_reg, y_test, 'o', color='b')\n",
    "plt.ylabel('Actual')\n",
    "plt.xlabel('Prediction')"
   ]
  },
  {
   "cell_type": "markdown",
   "metadata": {},
   "source": [
    "> Next build a SVM regression model. Remember that SVM can be used for both classification and regression."
   ]
  },
  {
   "cell_type": "code",
   "execution_count": 33,
   "metadata": {},
   "outputs": [
    {
     "data": {
      "text/plain": [
       "SVR(kernel='linear')"
      ]
     },
     "execution_count": 33,
     "metadata": {},
     "output_type": "execute_result"
    }
   ],
   "source": [
    "# Build a SVR (SVM Regression) model and train it on (X_train, y_train), kernel should be 'linear'\n",
    "svm_reg = SVR(kernel='linear')\n",
    "svm_reg.fit(X_train, y_train)"
   ]
  },
  {
   "cell_type": "code",
   "execution_count": 34,
   "metadata": {},
   "outputs": [],
   "source": [
    "# Test svm_reg\n",
    "y_pred_svm = svm_reg.predict(X_test)"
   ]
  },
  {
   "cell_type": "code",
   "execution_count": 35,
   "metadata": {},
   "outputs": [
    {
     "name": "stdout",
     "output_type": "stream",
     "text": [
      "SVM RMSE 0.43805103665380407\n"
     ]
    }
   ],
   "source": [
    "# Compute rmse for svm_reg\n",
    "rmse_svm = rmse(y_test, y_pred_svm)\n",
    "print('SVM RMSE', rmse_svm)"
   ]
  },
  {
   "cell_type": "markdown",
   "metadata": {},
   "source": [
    "> Next, you should create an [XGBoost Regression](https://xgboost.readthedocs.io/en/latest/python/python_api.html#module-xgboost.sklearn) model. You can simply `import xgboost` and build a `XGBRegressor()` model and pass this argument `objective ='reg:squarederror'` to it."
   ]
  },
  {
   "cell_type": "code",
   "execution_count": 36,
   "metadata": {},
   "outputs": [
    {
     "data": {
      "text/plain": [
       "XGBRegressor(base_score=0.5, booster='gbtree', colsample_bylevel=1,\n",
       "             colsample_bynode=1, colsample_bytree=1, gamma=0, gpu_id=-1,\n",
       "             importance_type='gain', interaction_constraints='',\n",
       "             learning_rate=0.300000012, max_delta_step=0, max_depth=6,\n",
       "             min_child_weight=1, missing=nan, monotone_constraints='()',\n",
       "             n_estimators=100, n_jobs=12, num_parallel_tree=1, random_state=0,\n",
       "             reg_alpha=0, reg_lambda=1, scale_pos_weight=1, subsample=1,\n",
       "             tree_method='exact', validate_parameters=1, verbosity=None)"
      ]
     },
     "execution_count": 36,
     "metadata": {},
     "output_type": "execute_result"
    }
   ],
   "source": [
    "# Build a xgb regression model and train it on (X_train, y_train)\n",
    "xgb_reg = XGBRegressor(objective ='reg:squarederror')\n",
    "xgb_reg.fit(X_train, y_train)"
   ]
  },
  {
   "cell_type": "code",
   "execution_count": 37,
   "metadata": {},
   "outputs": [],
   "source": [
    "# Test xgb_reg\n",
    "y_pred_xgb = xgb_reg.predict(X_test)"
   ]
  },
  {
   "cell_type": "code",
   "execution_count": 38,
   "metadata": {},
   "outputs": [
    {
     "name": "stdout",
     "output_type": "stream",
     "text": [
      "XGB RMSE 0.5984064859307926\n"
     ]
    }
   ],
   "source": [
    "# Compute rmse for xgb_reg\n",
    "rmse_xgb = rmse(y_test, y_pred_xgb)\n",
    "print('XGB RMSE', rmse_xgb)"
   ]
  },
  {
   "cell_type": "markdown",
   "metadata": {},
   "source": [
    "> Hmm! Not so well compared to the previous models. So? --> Yes, you should fine-tune hyperparameters of XGBoost! \n",
    "\n",
    "> If a model has a lot of hyperparameters, it is not an easy task to fine-tune them, and as you experienced, `GridSearchCV` takes a lot of time, so this time you're going to use a different search strategy [`RandomizedSearchCV`](https://scikit-learn.org/stable/modules/generated/sklearn.model_selection.RandomizedSearchCV.html) which is much faster and more efficient than `GridSearchCV` (which is more suitable when you have fewer number of combinations). Read its documentation and notice that while it is very similar to `GridSearchCV`, the dict that stores the params/values is a different argument.\n",
    "\n",
    "> Also, read [this article](https://scikit-learn.org/stable/auto_examples/model_selection/plot_randomized_search.html) on the comparison between the two search methods. "
   ]
  },
  {
   "cell_type": "code",
   "execution_count": 39,
   "metadata": {},
   "outputs": [
    {
     "name": "stdout",
     "output_type": "stream",
     "text": [
      "[22:48:20] WARNING: C:/Users/Administrator/workspace/xgboost-win64_release_1.3.0/src/learner.cc:541: \n",
      "Parameters: { colsample_bylevel, colsample_bynode, colsample_bytree, gamma, interaction_constraints, max_delta_step, max_depth, min_child_weight, monotone_constraints, num_parallel_tree, subsample, tree_method } might not be used.\n",
      "\n",
      "  This may not be accurate due to some parameters are only used in language bindings but\n",
      "  passed down to XGBoost core.  Or some parameters are not used but slip through this\n",
      "  verification. Please open an issue if you find above cases.\n",
      "\n",
      "\n",
      "[22:48:20] WARNING: C:/Users/Administrator/workspace/xgboost-win64_release_1.3.0/src/learner.cc:541: \n",
      "Parameters: { colsample_bylevel, colsample_bynode, colsample_bytree, gamma, interaction_constraints, max_delta_step, max_depth, min_child_weight, monotone_constraints, num_parallel_tree, subsample, tree_method } might not be used.\n",
      "\n",
      "  This may not be accurate due to some parameters are only used in language bindings but\n",
      "  passed down to XGBoost core.  Or some parameters are not used but slip through this\n",
      "  verification. Please open an issue if you find above cases.\n",
      "\n",
      "\n",
      "[22:48:20] WARNING: C:/Users/Administrator/workspace/xgboost-win64_release_1.3.0/src/learner.cc:541: \n",
      "Parameters: { colsample_bylevel, colsample_bynode, colsample_bytree, gamma, interaction_constraints, max_delta_step, max_depth, min_child_weight, monotone_constraints, num_parallel_tree, subsample, tree_method } might not be used.\n",
      "\n",
      "  This may not be accurate due to some parameters are only used in language bindings but\n",
      "  passed down to XGBoost core.  Or some parameters are not used but slip through this\n",
      "  verification. Please open an issue if you find above cases.\n",
      "\n",
      "\n",
      "[22:48:20] WARNING: C:/Users/Administrator/workspace/xgboost-win64_release_1.3.0/src/learner.cc:541: \n",
      "Parameters: { colsample_bylevel, colsample_bynode, colsample_bytree, gamma, interaction_constraints, max_delta_step, max_depth, min_child_weight, monotone_constraints, num_parallel_tree, subsample, tree_method } might not be used.\n",
      "\n",
      "  This may not be accurate due to some parameters are only used in language bindings but\n",
      "  passed down to XGBoost core.  Or some parameters are not used but slip through this\n",
      "  verification. Please open an issue if you find above cases.\n",
      "\n",
      "\n",
      "[22:48:20] WARNING: C:/Users/Administrator/workspace/xgboost-win64_release_1.3.0/src/learner.cc:541: \n",
      "Parameters: { colsample_bylevel, colsample_bynode, colsample_bytree, gamma, interaction_constraints, max_delta_step, max_depth, min_child_weight, monotone_constraints, num_parallel_tree, subsample, tree_method } might not be used.\n",
      "\n",
      "  This may not be accurate due to some parameters are only used in language bindings but\n",
      "  passed down to XGBoost core.  Or some parameters are not used but slip through this\n",
      "  verification. Please open an issue if you find above cases.\n",
      "\n",
      "\n",
      "[22:48:20] WARNING: C:/Users/Administrator/workspace/xgboost-win64_release_1.3.0/src/learner.cc:541: \n",
      "Parameters: { colsample_bylevel, colsample_bynode, colsample_bytree, gamma, interaction_constraints, max_delta_step, max_depth, min_child_weight, monotone_constraints, num_parallel_tree, subsample, tree_method } might not be used.\n",
      "\n",
      "  This may not be accurate due to some parameters are only used in language bindings but\n",
      "  passed down to XGBoost core.  Or some parameters are not used but slip through this\n",
      "  verification. Please open an issue if you find above cases.\n",
      "\n",
      "\n",
      "[22:48:20] WARNING: C:/Users/Administrator/workspace/xgboost-win64_release_1.3.0/src/learner.cc:541: \n",
      "Parameters: { colsample_bylevel, colsample_bynode, colsample_bytree, gamma, interaction_constraints, max_delta_step, max_depth, min_child_weight, monotone_constraints, num_parallel_tree, subsample, tree_method } might not be used.\n",
      "\n",
      "  This may not be accurate due to some parameters are only used in language bindings but\n",
      "  passed down to XGBoost core.  Or some parameters are not used but slip through this\n",
      "  verification. Please open an issue if you find above cases.\n",
      "\n",
      "\n",
      "[22:48:20] WARNING: C:/Users/Administrator/workspace/xgboost-win64_release_1.3.0/src/learner.cc:541: \n",
      "Parameters: { colsample_bylevel, colsample_bynode, colsample_bytree, gamma, interaction_constraints, max_delta_step, max_depth, min_child_weight, monotone_constraints, num_parallel_tree, subsample, tree_method } might not be used.\n",
      "\n",
      "  This may not be accurate due to some parameters are only used in language bindings but\n",
      "  passed down to XGBoost core.  Or some parameters are not used but slip through this\n",
      "  verification. Please open an issue if you find above cases.\n",
      "\n",
      "\n",
      "[22:48:20] WARNING: C:/Users/Administrator/workspace/xgboost-win64_release_1.3.0/src/learner.cc:541: \n",
      "Parameters: { colsample_bylevel, colsample_bynode, colsample_bytree, gamma, interaction_constraints, max_delta_step, max_depth, min_child_weight, monotone_constraints, num_parallel_tree, subsample, tree_method } might not be used.\n",
      "\n",
      "  This may not be accurate due to some parameters are only used in language bindings but\n",
      "  passed down to XGBoost core.  Or some parameters are not used but slip through this\n",
      "  verification. Please open an issue if you find above cases.\n",
      "\n",
      "\n",
      "[22:48:20] WARNING: C:/Users/Administrator/workspace/xgboost-win64_release_1.3.0/src/learner.cc:541: \n",
      "Parameters: { colsample_bylevel, colsample_bynode, colsample_bytree, gamma, interaction_constraints, max_delta_step, max_depth, min_child_weight, monotone_constraints, num_parallel_tree, subsample, tree_method } might not be used.\n",
      "\n",
      "  This may not be accurate due to some parameters are only used in language bindings but\n",
      "  passed down to XGBoost core.  Or some parameters are not used but slip through this\n",
      "  verification. Please open an issue if you find above cases.\n",
      "\n",
      "\n",
      "[22:48:24] WARNING: C:/Users/Administrator/workspace/xgboost-win64_release_1.3.0/src/learner.cc:541: \n",
      "Parameters: { colsample_bylevel, colsample_bynode, colsample_bytree, gamma, interaction_constraints, max_delta_step, max_depth, min_child_weight, monotone_constraints, num_parallel_tree, subsample, tree_method } might not be used.\n",
      "\n",
      "  This may not be accurate due to some parameters are only used in language bindings but\n",
      "  passed down to XGBoost core.  Or some parameters are not used but slip through this\n",
      "  verification. Please open an issue if you find above cases.\n",
      "\n",
      "\n",
      "Randomized search for hyperparameter tuning of XGBoost Regressor\n",
      "Best Parameters: {'n_estimators': 300, 'max_depth': 20, 'booster': 'gblinear'}\n"
     ]
    }
   ],
   "source": [
    "xgb_reg = XGBRegressor(objective ='reg:squarederror')\n",
    "xgb_reg.fit(X_train, y_train)\n",
    "\n",
    "n_estimators = [100, 200, 300, 400, 500]\n",
    "max_depth = [5, 10, 20, 30, 40, 50]\n",
    "booster = ['gbtree', 'gblinear', 'dart']\n",
    "\n",
    "        \n",
    "params = {'n_estimators': n_estimators,\n",
    "          'max_depth': max_depth,\n",
    "          'booster': booster };\n",
    "\n",
    "\n",
    "distributions = dict(C=stats.uniform(loc=0, scale=4),\n",
    "                     penalty=['l2', 'l1'])\n",
    "\n",
    "randomized_search = RandomizedSearchCV(estimator=xgb_reg, param_distributions=params)\n",
    "best_xgb_reg = randomized_search.fit(X_test, y_test)\n",
    "print('Randomized search for hyperparameter tuning of XGBoost Regressor')\n",
    "print('Best Parameters: ' + str(best_xgb_reg.best_params_))"
   ]
  },
  {
   "cell_type": "code",
   "execution_count": 40,
   "metadata": {},
   "outputs": [
    {
     "data": {
      "text/plain": [
       "dict_keys(['objective', 'base_score', 'booster', 'colsample_bylevel', 'colsample_bynode', 'colsample_bytree', 'gamma', 'gpu_id', 'importance_type', 'interaction_constraints', 'learning_rate', 'max_delta_step', 'max_depth', 'min_child_weight', 'missing', 'monotone_constraints', 'n_estimators', 'n_jobs', 'num_parallel_tree', 'random_state', 'reg_alpha', 'reg_lambda', 'scale_pos_weight', 'subsample', 'tree_method', 'validate_parameters', 'verbosity'])"
      ]
     },
     "execution_count": 40,
     "metadata": {},
     "output_type": "execute_result"
    }
   ],
   "source": [
    "xgb_reg.get_params().keys()"
   ]
  },
  {
   "cell_type": "code",
   "execution_count": 41,
   "metadata": {},
   "outputs": [
    {
     "ename": "ValueError",
     "evalue": "Invalid parameter n_estimators for estimator RandomizedSearchCV(estimator=XGBRegressor(base_score=0.5, booster='gbtree',\n                                          colsample_bylevel=1,\n                                          colsample_bynode=1,\n                                          colsample_bytree=1, gamma=0,\n                                          gpu_id=-1, importance_type='gain',\n                                          interaction_constraints='',\n                                          learning_rate=0.300000012,\n                                          max_delta_step=0, max_depth=6,\n                                          min_child_weight=1, missing=nan,\n                                          monotone_constraints='()',\n                                          n_estimators=100, n_jobs=12,\n                                          num_parallel_tree=1, random_state=0,\n                                          reg_alpha=0, reg_lambda=1,\n                                          scale_pos_weight=1, subsample=1,\n                                          tree_method='exact',\n                                          validate_parameters=1,\n                                          verbosity=None),\n                   param_distributions={'booster': ['gbtree', 'gblinear',\n                                                    'dart'],\n                                        'max_depth': [5, 10, 20, 30, 40, 50],\n                                        'n_estimators': [100, 200, 300, 400,\n                                                         500]}). Check the list of available parameters with `estimator.get_params().keys()`.",
     "output_type": "error",
     "traceback": [
      "\u001b[1;31m---------------------------------------------------------------------------\u001b[0m",
      "\u001b[1;31mValueError\u001b[0m                                Traceback (most recent call last)",
      "\u001b[1;32m<ipython-input-41-3ea68eb99a7a>\u001b[0m in \u001b[0;36m<module>\u001b[1;34m\u001b[0m\n\u001b[0;32m      1\u001b[0m \u001b[1;31m# Train and test best_xgb, and compute rmse with your own rmse function\u001b[0m\u001b[1;33m\u001b[0m\u001b[1;33m\u001b[0m\u001b[1;33m\u001b[0m\u001b[0m\n\u001b[1;32m----> 2\u001b[1;33m \u001b[0mbest_xgb\u001b[0m \u001b[1;33m=\u001b[0m \u001b[0mbest_xgb_reg\u001b[0m\u001b[1;33m.\u001b[0m\u001b[0mset_params\u001b[0m\u001b[1;33m(\u001b[0m\u001b[1;33m**\u001b[0m\u001b[1;33m(\u001b[0m\u001b[0mbest_xgb_reg\u001b[0m\u001b[1;33m.\u001b[0m\u001b[0mbest_params_\u001b[0m\u001b[1;33m)\u001b[0m\u001b[1;33m)\u001b[0m\u001b[1;33m\u001b[0m\u001b[1;33m\u001b[0m\u001b[0m\n\u001b[0m\u001b[0;32m      3\u001b[0m \u001b[0mbest_xgb\u001b[0m\u001b[1;33m.\u001b[0m\u001b[0mfit\u001b[0m\u001b[1;33m(\u001b[0m\u001b[0mX_train\u001b[0m\u001b[1;33m,\u001b[0m \u001b[0my_train\u001b[0m\u001b[1;33m)\u001b[0m\u001b[1;33m\u001b[0m\u001b[1;33m\u001b[0m\u001b[0m\n\u001b[0;32m      4\u001b[0m \u001b[0my_pred_best_xgb\u001b[0m \u001b[1;33m=\u001b[0m \u001b[0mbest_xgb\u001b[0m\u001b[1;33m.\u001b[0m\u001b[0mpredict\u001b[0m\u001b[1;33m(\u001b[0m\u001b[0mX_test\u001b[0m\u001b[1;33m)\u001b[0m\u001b[1;33m\u001b[0m\u001b[1;33m\u001b[0m\u001b[0m\n\u001b[0;32m      5\u001b[0m \u001b[0mrmse_best_xgb\u001b[0m \u001b[1;33m=\u001b[0m \u001b[0mrmse\u001b[0m\u001b[1;33m(\u001b[0m\u001b[0my_test\u001b[0m\u001b[1;33m,\u001b[0m \u001b[0my_pred_best_xgb\u001b[0m\u001b[1;33m)\u001b[0m\u001b[1;33m\u001b[0m\u001b[1;33m\u001b[0m\u001b[0m\n",
      "\u001b[1;32mc:\\python38\\lib\\site-packages\\sklearn\\base.py\u001b[0m in \u001b[0;36mset_params\u001b[1;34m(self, **params)\u001b[0m\n\u001b[0;32m    228\u001b[0m             \u001b[0mkey\u001b[0m\u001b[1;33m,\u001b[0m \u001b[0mdelim\u001b[0m\u001b[1;33m,\u001b[0m \u001b[0msub_key\u001b[0m \u001b[1;33m=\u001b[0m \u001b[0mkey\u001b[0m\u001b[1;33m.\u001b[0m\u001b[0mpartition\u001b[0m\u001b[1;33m(\u001b[0m\u001b[1;34m'__'\u001b[0m\u001b[1;33m)\u001b[0m\u001b[1;33m\u001b[0m\u001b[1;33m\u001b[0m\u001b[0m\n\u001b[0;32m    229\u001b[0m             \u001b[1;32mif\u001b[0m \u001b[0mkey\u001b[0m \u001b[1;32mnot\u001b[0m \u001b[1;32min\u001b[0m \u001b[0mvalid_params\u001b[0m\u001b[1;33m:\u001b[0m\u001b[1;33m\u001b[0m\u001b[1;33m\u001b[0m\u001b[0m\n\u001b[1;32m--> 230\u001b[1;33m                 raise ValueError('Invalid parameter %s for estimator %s. '\n\u001b[0m\u001b[0;32m    231\u001b[0m                                  \u001b[1;34m'Check the list of available parameters '\u001b[0m\u001b[1;33m\u001b[0m\u001b[1;33m\u001b[0m\u001b[0m\n\u001b[0;32m    232\u001b[0m                                  \u001b[1;34m'with `estimator.get_params().keys()`.'\u001b[0m \u001b[1;33m%\u001b[0m\u001b[1;33m\u001b[0m\u001b[1;33m\u001b[0m\u001b[0m\n",
      "\u001b[1;31mValueError\u001b[0m: Invalid parameter n_estimators for estimator RandomizedSearchCV(estimator=XGBRegressor(base_score=0.5, booster='gbtree',\n                                          colsample_bylevel=1,\n                                          colsample_bynode=1,\n                                          colsample_bytree=1, gamma=0,\n                                          gpu_id=-1, importance_type='gain',\n                                          interaction_constraints='',\n                                          learning_rate=0.300000012,\n                                          max_delta_step=0, max_depth=6,\n                                          min_child_weight=1, missing=nan,\n                                          monotone_constraints='()',\n                                          n_estimators=100, n_jobs=12,\n                                          num_parallel_tree=1, random_state=0,\n                                          reg_alpha=0, reg_lambda=1,\n                                          scale_pos_weight=1, subsample=1,\n                                          tree_method='exact',\n                                          validate_parameters=1,\n                                          verbosity=None),\n                   param_distributions={'booster': ['gbtree', 'gblinear',\n                                                    'dart'],\n                                        'max_depth': [5, 10, 20, 30, 40, 50],\n                                        'n_estimators': [100, 200, 300, 400,\n                                                         500]}). Check the list of available parameters with `estimator.get_params().keys()`."
     ]
    }
   ],
   "source": [
    "# Train and test best_xgb, and compute rmse with your own rmse function\n",
    "best_xgb = best_xgb_reg.set_params(**(best_xgb_reg.best_params_))\n",
    "best_xgb.fit(X_train, y_train)\n",
    "y_pred_best_xgb = best_xgb.predict(X_test)\n",
    "rmse_best_xgb = rmse(y_test, y_pred_best_xgb)\n",
    "print('Best XGB RMSE', rmse_best_xgb)"
   ]
  },
  {
   "cell_type": "markdown",
   "metadata": {},
   "source": [
    "> **Maximum Acceptable RMSE Requirement**: Your rounded `rmse` with two decimal places should be less than 0.50, so if your rounded `rmse` is 0.50 or higher, it is not acceptable. It should be 0.49 or lower; otherwise it gets zero points for this part. The correct implementation of the randomized search and getting the desired rmse has 20 points.\n",
    "\n",
    "> **Hint**: Because you are using `RandomizedSearchCV` which takes less time, you should run with more hyperparameters and more values, and you may have to run the randomized search multiple times until you get `rmse` below 0.50. If after a few runs you couldn't get the desired result, you may have to repartition the data again (rerun the `train_test_split()` method and try again with a new search). But you should do this experiment patiently as it may take a lot of time and efforts. One has to work tirelessly to gain the required skills in ML and Data Science!"
   ]
  },
  {
   "cell_type": "markdown",
   "metadata": {},
   "source": [
    "> Last step is calculating another regression performance measure $R^2$ [Coefficient of Determination](https://en.wikipedia.org/wiki/Coefficient_of_determination). You can use sklearn [`r2_score`](https://scikit-learn.org/stable/modules/generated/sklearn.metrics.r2_score.html) method. For XGBoost, the $R^2$ score must be for the `best_xgb`. All $R^2$ scores of your regression models should be close to 1. "
   ]
  },
  {
   "cell_type": "code",
   "execution_count": null,
   "metadata": {},
   "outputs": [],
   "source": [
    "r2_ls = ...\n",
    "r2_lin_reg = ...\n",
    "r2_svm = ...\n",
    "r2_xgb = ...\n",
    "print('Least Squares R2: ', r2_ls)\n",
    "print('Linear Regression R2: ', r2_lin_reg)\n",
    "print('SVM R2: ', r2_svm)\n",
    "print('XGBoost R2: ', r2_xgb)"
   ]
  },
  {
   "cell_type": "markdown",
   "metadata": {},
   "source": [
    "### Part-III Question"
   ]
  },
  {
   "cell_type": "markdown",
   "metadata": {},
   "source": [
    "- Q3 [5 points] What does `Plot Q3` the Actual-Predicted plot of `lin_reg` model imply? Explain completely. You should justify your answer mathematically, otherwise your answer gets zero.\n",
    "\n",
    "- Answer of Q3: Sorry i do not know what it implies"
   ]
  },
  {
   "cell_type": "markdown",
   "metadata": {},
   "source": [
    "## Grading\n",
    "\n",
    "Assignment-2 has a maximum of 100 points. **You must run all cells** and get the correct outputs for all cells and give complete answers to all questions. **Cells/codes with no output get zero!** Also, your notebook should be written with no grammatical and spelling errors and should be easy-to-read.\n",
    "\n",
    "The breakdown of the 100 points is as follows:\n",
    "\n",
    "- Part-I - 10 points - Incorrect/incomplete plot in Part-I gets zero.\n",
    "   \n",
    "\n",
    "- Part-II - 50 points\n",
    "    - Implementation and results: 40 points\n",
    "        - Correct Least Squares model: 15 points\n",
    "        - Correct mse, rmse, and mae functions: 25 points\n",
    "    - Part-II Questions: 10 points\n",
    "    \n",
    "\n",
    "- Part-III - 40 points\n",
    "    - Implementation and results: 35 points\n",
    "        - Building three regression models: 15 points\n",
    "        - Randomized search and getting the desired rmse for `best_xgb`: 20 points **Note**: Incorrect `RandomizedSearchCV` and not meeting the rmse requirement get zero.\n",
    "    - Part-III Question: 5 points\n",
    "    \n",
    "\n",
    "<b>Note: </b>Follow the instructions of each section carefully. Up to 10 points may be deducted if your submitted notebook is not easy to read and follow or if it has grammatical, spelling or formatting issues."
   ]
  },
  {
   "cell_type": "markdown",
   "metadata": {},
   "source": [
    "Name your notebook ```Lastname-A2.ipynb```. Submit the completed notebook using the ```Assignment-2``` link on Blackboard.\n",
    "\n",
    "Grading will be based on \n",
    "\n",
    "  * correct implementation, correct and complete results and outputs, correct answer to the questions, and\n",
    "  * readability of the notebook.\n",
    "  \n",
    "<font color=red><b>Due Date: Wednesday March 10th, 11:59PM.</b></font>"
   ]
  },
  {
   "cell_type": "code",
   "execution_count": null,
   "metadata": {},
   "outputs": [],
   "source": []
  }
 ],
 "metadata": {
  "kernelspec": {
   "display_name": "Python 3",
   "language": "python",
   "name": "python3"
  },
  "language_info": {
   "codemirror_mode": {
    "name": "ipython",
    "version": 3
   },
   "file_extension": ".py",
   "mimetype": "text/x-python",
   "name": "python",
   "nbconvert_exporter": "python",
   "pygments_lexer": "ipython3",
   "version": "3.8.5"
  }
 },
 "nbformat": 4,
 "nbformat_minor": 2
}
